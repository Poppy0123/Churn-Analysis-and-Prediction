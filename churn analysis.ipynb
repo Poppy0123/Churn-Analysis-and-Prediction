{
 "cells": [
  {
   "cell_type": "code",
   "execution_count": 14,
   "id": "d6ecb282",
   "metadata": {},
   "outputs": [],
   "source": [
    "import pandas as pd\n",
    "\n",
    "# Load the data from the uploaded CSV file\n",
    "file_path = 'HITRUST+Hair_Sales+by++ProductService+Detail (4).csv'\n",
    "new_sales_data = pd.read_csv(file_path)\n"
   ]
  },
  {
   "cell_type": "code",
   "execution_count": 19,
   "id": "f7f89cbc",
   "metadata": {},
   "outputs": [
    {
     "data": {
      "text/plain": [
       "(Date                datetime64[ns]\n",
       " Num                         object\n",
       " Customer                    object\n",
       " Product/Service             object\n",
       " Memo/Description            object\n",
       " Sales Price                float64\n",
       " Qty                        float64\n",
       " Amount                     float64\n",
       " Customer Type               object\n",
       " dtype: object,\n",
       " Date                   0\n",
       " Num                    1\n",
       " Customer               0\n",
       " Product/Service        0\n",
       " Memo/Description       0\n",
       " Sales Price         8143\n",
       " Qty                    0\n",
       " Amount                45\n",
       " Customer Type          0\n",
       " dtype: int64)"
      ]
     },
     "execution_count": 19,
     "metadata": {},
     "output_type": "execute_result"
    }
   ],
   "source": [
    "# Data cleaning process: Checking and fixing the format of dates and numeric columns\n",
    "\n",
    "# Convert 'Date' column to datetime format\n",
    "new_sales_data['Date'] = pd.to_datetime(new_sales_data['Date'], errors='coerce')\n",
    "\n",
    "# Attempt to convert 'Sales Price' and 'Amount' columns to numeric format, coercing errors to NaN\n",
    "new_sales_data['Sales Price'] = pd.to_numeric(new_sales_data['Sales Price'].str.replace(' ', '').replace('', 'NaN'), errors='coerce')\n",
    "new_sales_data['Amount'] = pd.to_numeric(new_sales_data['Amount'].str.replace(' ', '').replace('', 'NaN'), errors='coerce')\n",
    "\n",
    "# Display data types and check for missing values in key columns\n",
    "data_types = new_sales_data.dtypes\n",
    "missing_values = new_sales_data.isnull().sum()\n",
    "\n",
    "data_types, missing_values\n"
   ]
  },
  {
   "cell_type": "code",
   "execution_count": 20,
   "id": "25b2d139",
   "metadata": {},
   "outputs": [
    {
     "data": {
      "text/html": [
       "<div>\n",
       "<style scoped>\n",
       "    .dataframe tbody tr th:only-of-type {\n",
       "        vertical-align: middle;\n",
       "    }\n",
       "\n",
       "    .dataframe tbody tr th {\n",
       "        vertical-align: top;\n",
       "    }\n",
       "\n",
       "    .dataframe thead th {\n",
       "        text-align: right;\n",
       "    }\n",
       "</style>\n",
       "<table border=\"1\" class=\"dataframe\">\n",
       "  <thead>\n",
       "    <tr style=\"text-align: right;\">\n",
       "      <th></th>\n",
       "      <th>Customer</th>\n",
       "      <th>Memo/Description</th>\n",
       "      <th>Customer Type</th>\n",
       "    </tr>\n",
       "  </thead>\n",
       "  <tbody>\n",
       "    <tr>\n",
       "      <th>1</th>\n",
       "      <td>Joannis Correa_3058</td>\n",
       "      <td>Shipping</td>\n",
       "      <td>nonlocal</td>\n",
       "    </tr>\n",
       "    <tr>\n",
       "      <th>74</th>\n",
       "      <td>Joannis Correa_3058</td>\n",
       "      <td>9A BW 24”</td>\n",
       "      <td>nonlocal</td>\n",
       "    </tr>\n",
       "    <tr>\n",
       "      <th>75</th>\n",
       "      <td>Joannis Correa_3058</td>\n",
       "      <td>8A BW 18\"</td>\n",
       "      <td>nonlocal</td>\n",
       "    </tr>\n",
       "    <tr>\n",
       "      <th>189</th>\n",
       "      <td>Joannis Correa_3058</td>\n",
       "      <td>No Description</td>\n",
       "      <td>nonlocal</td>\n",
       "    </tr>\n",
       "    <tr>\n",
       "      <th>190</th>\n",
       "      <td>Joannis Correa_3058</td>\n",
       "      <td>Shipping</td>\n",
       "      <td>nonlocal</td>\n",
       "    </tr>\n",
       "  </tbody>\n",
       "</table>\n",
       "</div>"
      ],
      "text/plain": [
       "                Customer Memo/Description Customer Type\n",
       "1    Joannis Correa_3058         Shipping      nonlocal\n",
       "74   Joannis Correa_3058        9A BW 24”      nonlocal\n",
       "75   Joannis Correa_3058        8A BW 18\"      nonlocal\n",
       "189  Joannis Correa_3058   No Description      nonlocal\n",
       "190  Joannis Correa_3058         Shipping      nonlocal"
      ]
     },
     "execution_count": 20,
     "metadata": {},
     "output_type": "execute_result"
    }
   ],
   "source": [
    "# Identify customers with any 'Shipping' in their transactions\n",
    "nonlocal_customers = new_sales_data[new_sales_data['Memo/Description'].str.contains('Shipping', na=False)]['Customer'].unique()\n",
    "\n",
    "# Label all transactions of these customers as 'nonlocal'\n",
    "new_sales_data['Customer Type'] = new_sales_data['Customer'].apply(lambda x: 'nonlocal' if x in nonlocal_customers else 'local')\n",
    "\n",
    "# Verify the labeling by displaying some entries of a customer marked as 'nonlocal'\n",
    "verification = new_sales_data[new_sales_data['Customer'] == nonlocal_customers[0]][['Customer', 'Memo/Description', 'Customer Type']].head()\n",
    "verification\n"
   ]
  },
  {
   "cell_type": "code",
   "execution_count": 21,
   "id": "faa57eb3",
   "metadata": {},
   "outputs": [
    {
     "data": {
      "text/plain": [
       "(Date                0\n",
       " Num                 1\n",
       " Customer            0\n",
       " Product/Service     0\n",
       " Memo/Description    0\n",
       " Sales Price         0\n",
       " Qty                 0\n",
       " Amount              0\n",
       " Customer Type       0\n",
       " dtype: int64,\n",
       "         Date                Num              Customer  \\\n",
       " 0 2021-01-18  00210991643210737                Tyaira   \n",
       " 1 2021-01-18  00210991643210741   Joannis Correa_3058   \n",
       " 2 2021-01-18  00210991643210731  Jacquetta Scott_3891   \n",
       " 3 2021-01-18  00210991643210731  Jacquetta Scott_3891   \n",
       " 4 2021-01-18  00210991643210731  Jacquetta Scott_3891   \n",
       " \n",
       "            Product/Service Memo/Description  Sales Price  Qty  Amount  \\\n",
       " 0             HD 5*5 lw 18   No Description         91.5  1.0    91.5   \n",
       " 1  Unknown Product/Service         Shipping          0.0  0.0    20.0   \n",
       " 2                 VA BW 12        8A  BW12\"         18.5  1.0    18.5   \n",
       " 3                 VA BW 16        8A BW 16”         24.5  1.0    24.5   \n",
       " 4                 VA BW 20        8A Bw 20”         31.5  1.0    31.5   \n",
       " \n",
       "   Customer Type  \n",
       " 0         local  \n",
       " 1      nonlocal  \n",
       " 2      nonlocal  \n",
       " 3      nonlocal  \n",
       " 4      nonlocal  )"
      ]
     },
     "execution_count": 21,
     "metadata": {},
     "output_type": "execute_result"
    }
   ],
   "source": [
    "# Fill missing values in 'Product/Service' with 'Unknown Product/Service'\n",
    "new_sales_data['Product/Service'].fillna('Unknown Product/Service', inplace=True)\n",
    "\n",
    "# Fill missing values in 'Sales Price' and 'Qty' with zeros\n",
    "new_sales_data['Sales Price'].fillna(0, inplace=True)\n",
    "new_sales_data['Qty'].fillna(0, inplace=True)\n",
    "\n",
    "# Fill missing values in 'Memo/Description' with 'No Description'\n",
    "new_sales_data['Memo/Description'].fillna('No Description', inplace=True)\n",
    "\n",
    "# Remove rows where 'Amount' is missing\n",
    "new_sales_data.dropna(subset=['Amount'], inplace=True)\n",
    "\n",
    "# Confirm changes by showing the updated missing value count and a sample of the data\n",
    "updated_missing_values = new_sales_data.isnull().sum()\n",
    "updated_sample = new_sales_data.head()\n",
    "\n",
    "updated_missing_values, updated_sample\n"
   ]
  },
  {
   "cell_type": "code",
   "execution_count": 22,
   "id": "bb52cbb3",
   "metadata": {},
   "outputs": [
    {
     "data": {
      "text/plain": [
       "Date                datetime64[ns]\n",
       "Num                         object\n",
       "Customer                    object\n",
       "Product/Service             object\n",
       "Memo/Description            object\n",
       "Sales Price                float64\n",
       "Qty                        float64\n",
       "Amount                     float64\n",
       "Customer Type               object\n",
       "dtype: object"
      ]
     },
     "execution_count": 22,
     "metadata": {},
     "output_type": "execute_result"
    }
   ],
   "source": [
    "# Rechecking the data types of key columns to ensure correct formatting\n",
    "data_types_recheck = new_sales_data.dtypes\n",
    "\n",
    "# Display data types to confirm everything is as expected\n",
    "data_types_recheck\n"
   ]
  },
  {
   "cell_type": "code",
   "execution_count": 23,
   "id": "0acdad22",
   "metadata": {},
   "outputs": [
    {
     "data": {
      "text/html": [
       "<div>\n",
       "<style scoped>\n",
       "    .dataframe tbody tr th:only-of-type {\n",
       "        vertical-align: middle;\n",
       "    }\n",
       "\n",
       "    .dataframe tbody tr th {\n",
       "        vertical-align: top;\n",
       "    }\n",
       "\n",
       "    .dataframe thead th {\n",
       "        text-align: right;\n",
       "    }\n",
       "</style>\n",
       "<table border=\"1\" class=\"dataframe\">\n",
       "  <thead>\n",
       "    <tr style=\"text-align: right;\">\n",
       "      <th></th>\n",
       "      <th>Customer</th>\n",
       "      <th>Date</th>\n",
       "      <th>Churned</th>\n",
       "    </tr>\n",
       "  </thead>\n",
       "  <tbody>\n",
       "    <tr>\n",
       "      <th>0</th>\n",
       "      <td>+1 (203) 706-9550</td>\n",
       "      <td>2023-04-17</td>\n",
       "      <td>Yes</td>\n",
       "    </tr>\n",
       "    <tr>\n",
       "      <th>1</th>\n",
       "      <td>+1 (215) 301-9994</td>\n",
       "      <td>2023-04-18</td>\n",
       "      <td>Yes</td>\n",
       "    </tr>\n",
       "    <tr>\n",
       "      <th>2</th>\n",
       "      <td>+1 (302) 784-5540</td>\n",
       "      <td>2023-03-22</td>\n",
       "      <td>Yes</td>\n",
       "    </tr>\n",
       "    <tr>\n",
       "      <th>3</th>\n",
       "      <td>+1 (314) 320-4208</td>\n",
       "      <td>2023-03-03</td>\n",
       "      <td>Yes</td>\n",
       "    </tr>\n",
       "    <tr>\n",
       "      <th>4</th>\n",
       "      <td>+1 (404) 966-7980</td>\n",
       "      <td>2023-04-18</td>\n",
       "      <td>Yes</td>\n",
       "    </tr>\n",
       "  </tbody>\n",
       "</table>\n",
       "</div>"
      ],
      "text/plain": [
       "            Customer       Date Churned\n",
       "0  +1 (203) 706-9550 2023-04-17     Yes\n",
       "1  +1 (215) 301-9994 2023-04-18     Yes\n",
       "2  +1 (302) 784-5540 2023-03-22     Yes\n",
       "3  +1 (314) 320-4208 2023-03-03     Yes\n",
       "4  +1 (404) 966-7980 2023-04-18     Yes"
      ]
     },
     "execution_count": 23,
     "metadata": {},
     "output_type": "execute_result"
    }
   ],
   "source": [
    "import pandas as pd\n",
    "\n",
    "# Assuming 'Date' is already in datetime format and sorted, if not we need to sort it\n",
    "new_sales_data.sort_values('Date', inplace=True)\n",
    "\n",
    "# Find the most recent transaction date in the data\n",
    "latest_date = new_sales_data['Date'].max()\n",
    "\n",
    "# Define the cutoff date for churn (6 months before the latest transaction date)\n",
    "cutoff_date = latest_date - pd.DateOffset(months=6)\n",
    "\n",
    "# Group by customer and find the date of the last purchase\n",
    "customer_last_purchase = new_sales_data.groupby('Customer')['Date'].max().reset_index()\n",
    "\n",
    "# Identify churned customers who have not purchased since the cutoff date\n",
    "customer_last_purchase['Churned'] = customer_last_purchase['Date'].apply(lambda x: 'Yes' if x <= cutoff_date else 'No')\n",
    "\n",
    "# Display the first few rows of the churned customers data\n",
    "churned_customers = customer_last_purchase.head()\n",
    "\n",
    "churned_customers\n"
   ]
  },
  {
   "cell_type": "code",
   "execution_count": 24,
   "id": "be23992c",
   "metadata": {},
   "outputs": [
    {
     "data": {
      "text/plain": [
       "(67.94240242516103,\n",
       "   Customer Type  Churn Rate\n",
       " 0         local   70.191835\n",
       " 1      nonlocal   60.396040)"
      ]
     },
     "execution_count": 24,
     "metadata": {},
     "output_type": "execute_result"
    }
   ],
   "source": [
    "# Calculate overall churn rate\n",
    "total_customers = customer_last_purchase.shape[0]\n",
    "churned_customers_count = customer_last_purchase[customer_last_purchase['Churned'] == 'Yes'].shape[0]\n",
    "churn_rate = (churned_customers_count / total_customers) * 100\n",
    "\n",
    "# Calculate churn rate by customer type\n",
    "churn_by_type = new_sales_data.groupby('Customer Type').apply(\n",
    "    lambda x: (x.groupby('Customer')['Date'].max() <= cutoff_date).mean() * 100\n",
    ").reset_index(name='Churn Rate')\n",
    "\n",
    "churn_rate, churn_by_type\n"
   ]
  },
  {
   "cell_type": "code",
   "execution_count": 25,
   "id": "13af7cd2",
   "metadata": {},
   "outputs": [
    {
     "data": {
      "text/plain": [
       "(Churned\n",
       " No     40.054374\n",
       " Yes    11.536531\n",
       " Name: Date, dtype: float64,\n",
       " Churned\n",
       " No     3789.681052\n",
       " Yes    1384.188076\n",
       " Name: Amount, dtype: float64)"
      ]
     },
     "execution_count": 25,
     "metadata": {},
     "output_type": "execute_result"
    }
   ],
   "source": [
    "# Merge the churn data back to the main sales data to analyze behavior\n",
    "behavior_data = new_sales_data.merge(customer_last_purchase[['Customer', 'Churned']], on='Customer', how='left')\n",
    "\n",
    "# Calculate purchase frequency and average spending for churned and retained customers\n",
    "purchase_frequency = behavior_data.groupby(['Customer', 'Churned'])['Date'].count().reset_index().groupby('Churned')['Date'].mean()\n",
    "average_spending = behavior_data.groupby(['Customer', 'Churned'])['Amount'].sum().reset_index().groupby('Churned')['Amount'].mean()\n",
    "\n",
    "# Results\n",
    "purchase_frequency, average_spending\n"
   ]
  },
  {
   "cell_type": "code",
   "execution_count": 26,
   "id": "d0c3d8c8",
   "metadata": {},
   "outputs": [
    {
     "data": {
      "text/html": [
       "<div>\n",
       "<style scoped>\n",
       "    .dataframe tbody tr th:only-of-type {\n",
       "        vertical-align: middle;\n",
       "    }\n",
       "\n",
       "    .dataframe tbody tr th {\n",
       "        vertical-align: top;\n",
       "    }\n",
       "\n",
       "    .dataframe thead th {\n",
       "        text-align: right;\n",
       "    }\n",
       "</style>\n",
       "<table border=\"1\" class=\"dataframe\">\n",
       "  <thead>\n",
       "    <tr style=\"text-align: right;\">\n",
       "      <th>Churned</th>\n",
       "      <th>No</th>\n",
       "      <th>Yes</th>\n",
       "      <th>Total</th>\n",
       "    </tr>\n",
       "    <tr>\n",
       "      <th>Standardized Product</th>\n",
       "      <th></th>\n",
       "      <th></th>\n",
       "      <th></th>\n",
       "    </tr>\n",
       "  </thead>\n",
       "  <tbody>\n",
       "    <tr>\n",
       "      <th>Unknown Product/Service</th>\n",
       "      <td>3908</td>\n",
       "      <td>1608</td>\n",
       "      <td>5516</td>\n",
       "    </tr>\n",
       "    <tr>\n",
       "      <th>VA+ BW 22\"</th>\n",
       "      <td>468</td>\n",
       "      <td>138</td>\n",
       "      <td>606</td>\n",
       "    </tr>\n",
       "    <tr>\n",
       "      <th>VA+ BW 20\"</th>\n",
       "      <td>498</td>\n",
       "      <td>107</td>\n",
       "      <td>605</td>\n",
       "    </tr>\n",
       "    <tr>\n",
       "      <th>VA+ BW 18\"</th>\n",
       "      <td>477</td>\n",
       "      <td>85</td>\n",
       "      <td>562</td>\n",
       "    </tr>\n",
       "    <tr>\n",
       "      <th>VA+ BW 24\"</th>\n",
       "      <td>403</td>\n",
       "      <td>139</td>\n",
       "      <td>542</td>\n",
       "    </tr>\n",
       "    <tr>\n",
       "      <th>VA+ BW 18”</th>\n",
       "      <td>239</td>\n",
       "      <td>220</td>\n",
       "      <td>459</td>\n",
       "    </tr>\n",
       "    <tr>\n",
       "      <th>VA+ BW 22”</th>\n",
       "      <td>256</td>\n",
       "      <td>199</td>\n",
       "      <td>455</td>\n",
       "    </tr>\n",
       "    <tr>\n",
       "      <th>hd 5*5 bw 16</th>\n",
       "      <td>328</td>\n",
       "      <td>122</td>\n",
       "      <td>450</td>\n",
       "    </tr>\n",
       "    <tr>\n",
       "      <th>VA+ BW 24”</th>\n",
       "      <td>241</td>\n",
       "      <td>203</td>\n",
       "      <td>444</td>\n",
       "    </tr>\n",
       "    <tr>\n",
       "      <th>VA+ BW 20”</th>\n",
       "      <td>237</td>\n",
       "      <td>205</td>\n",
       "      <td>442</td>\n",
       "    </tr>\n",
       "  </tbody>\n",
       "</table>\n",
       "</div>"
      ],
      "text/plain": [
       "Churned                    No   Yes  Total\n",
       "Standardized Product                      \n",
       "Unknown Product/Service  3908  1608   5516\n",
       "VA+ BW 22\"                468   138    606\n",
       "VA+ BW 20\"                498   107    605\n",
       "VA+ BW 18\"                477    85    562\n",
       "VA+ BW 24\"                403   139    542\n",
       "VA+ BW 18”                239   220    459\n",
       "VA+ BW 22”                256   199    455\n",
       "hd 5*5 bw 16              328   122    450\n",
       "VA+ BW 24”                241   203    444\n",
       "VA+ BW 20”                237   205    442"
      ]
     },
     "execution_count": 26,
     "metadata": {},
     "output_type": "execute_result"
    }
   ],
   "source": [
    "# Standardize product names by removing 'VIP:' prefix\n",
    "behavior_data['Standardized Product'] = behavior_data['Product/Service'].str.replace('VIP:', '').str.strip()\n",
    "\n",
    "# Calculate the frequency of product purchases for churned and retained customers\n",
    "product_preferences = behavior_data.groupby(['Standardized Product', 'Churned'])['Num'].count().unstack(fill_value=0)\n",
    "product_preferences['Total'] = product_preferences.sum(axis=1)\n",
    "product_preferences.sort_values('Total', ascending=False, inplace=True)\n",
    "\n",
    "# Display the top products to see the difference in purchasing patterns\n",
    "top_product_preferences = product_preferences.head(10)\n",
    "top_product_preferences\n"
   ]
  },
  {
   "cell_type": "code",
   "execution_count": 28,
   "id": "f98d7e45",
   "metadata": {},
   "outputs": [],
   "source": [
    "# Extract year and month from the 'Date' for grouping\n",
    "behavior_data['YearMonth'] = behavior_data['Date'].dt.to_period('M')\n",
    "\n",
    "# Calculate monthly churn rates\n",
    "monthly_churn_data = behavior_data.groupby(['YearMonth', 'Customer'])['Churned'].max().reset_index()\n",
    "monthly_churn_rates = monthly_churn_data.groupby('YearMonth')['Churned'].apply(lambda x: (x == 'Yes').mean() * 100)\n",
    "\n",
    "\n"
   ]
  },
  {
   "cell_type": "code",
   "execution_count": 29,
   "id": "ab6a8eee",
   "metadata": {},
   "outputs": [
    {
     "data": {
      "text/html": [
       "<div>\n",
       "<style scoped>\n",
       "    .dataframe tbody tr th:only-of-type {\n",
       "        vertical-align: middle;\n",
       "    }\n",
       "\n",
       "    .dataframe tbody tr th {\n",
       "        vertical-align: top;\n",
       "    }\n",
       "\n",
       "    .dataframe thead th {\n",
       "        text-align: right;\n",
       "    }\n",
       "</style>\n",
       "<table border=\"1\" class=\"dataframe\">\n",
       "  <thead>\n",
       "    <tr style=\"text-align: right;\">\n",
       "      <th></th>\n",
       "      <th>Churned_Flag</th>\n",
       "      <th>Qty</th>\n",
       "      <th>Amount</th>\n",
       "    </tr>\n",
       "  </thead>\n",
       "  <tbody>\n",
       "    <tr>\n",
       "      <th>Churned_Flag</th>\n",
       "      <td>1.000000</td>\n",
       "      <td>-0.011151</td>\n",
       "      <td>0.122395</td>\n",
       "    </tr>\n",
       "    <tr>\n",
       "      <th>Qty</th>\n",
       "      <td>-0.011151</td>\n",
       "      <td>1.000000</td>\n",
       "      <td>0.093990</td>\n",
       "    </tr>\n",
       "    <tr>\n",
       "      <th>Amount</th>\n",
       "      <td>0.122395</td>\n",
       "      <td>0.093990</td>\n",
       "      <td>1.000000</td>\n",
       "    </tr>\n",
       "  </tbody>\n",
       "</table>\n",
       "</div>"
      ],
      "text/plain": [
       "              Churned_Flag       Qty    Amount\n",
       "Churned_Flag      1.000000 -0.011151  0.122395\n",
       "Qty              -0.011151  1.000000  0.093990\n",
       "Amount            0.122395  0.093990  1.000000"
      ]
     },
     "execution_count": 29,
     "metadata": {},
     "output_type": "execute_result"
    }
   ],
   "source": [
    "# Convert 'Churned' from Yes/No to 1/0 for correlation analysis\n",
    "behavior_data['Churned_Flag'] = (behavior_data['Churned'] == 'Yes').astype(int)\n",
    "\n",
    "# Calculate correlations of 'Churned_Flag' with 'Qty' (as a proxy for frequency) and 'Amount' (as a proxy for spending)\n",
    "correlation_data = behavior_data[['Churned_Flag', 'Qty', 'Amount']]\n",
    "correlations = correlation_data.corr()\n",
    "\n",
    "correlations\n"
   ]
  },
  {
   "cell_type": "code",
   "execution_count": 31,
   "id": "4d9a56e4",
   "metadata": {},
   "outputs": [
    {
     "data": {
      "text/plain": [
       "'              precision    recall  f1-score   support\\n\\n           0       0.63      0.93      0.75     10147\\n           1       0.50      0.10      0.17      6225\\n\\n    accuracy                           0.62     16372\\n   macro avg       0.56      0.52      0.46     16372\\nweighted avg       0.58      0.62      0.53     16372\\n'"
      ]
     },
     "execution_count": 31,
     "metadata": {},
     "output_type": "execute_result"
    }
   ],
   "source": [
    "from sklearn.model_selection import train_test_split\n",
    "from sklearn.linear_model import LogisticRegression\n",
    "from sklearn.metrics import classification_report\n",
    "from sklearn.preprocessing import LabelEncoder\n",
    "\n",
    "# Prepare data for logistic regression\n",
    "# Encoding categorical variables\n",
    "encoder = LabelEncoder()\n",
    "behavior_data['Customer Type Encoded'] = encoder.fit_transform(behavior_data['Customer Type'])\n",
    "behavior_data['Product Encoded'] = encoder.fit_transform(behavior_data['Standardized Product'])\n",
    "\n",
    "# Selecting features for the model\n",
    "X = behavior_data[['Qty', 'Amount', 'Customer Type Encoded', 'Product Encoded']]\n",
    "y = behavior_data['Churned_Flag']\n",
    "\n",
    "# Splitting data into training and testing sets\n",
    "X_train, X_test, y_train, y_test = train_test_split(X, y, test_size=0.3, random_state=42)\n",
    "\n",
    "# Logistic regression model\n",
    "model = LogisticRegression(max_iter=1000)\n",
    "model.fit(X_train, y_train)\n",
    "\n",
    "# Predictions and performance evaluation\n",
    "predictions = model.predict(X_test)\n",
    "report = classification_report(y_test, predictions)\n",
    "\n",
    "report\n"
   ]
  },
  {
   "cell_type": "code",
   "execution_count": 32,
   "id": "848bb25d",
   "metadata": {},
   "outputs": [
    {
     "data": {
      "text/html": [
       "<div>\n",
       "<style scoped>\n",
       "    .dataframe tbody tr th:only-of-type {\n",
       "        vertical-align: middle;\n",
       "    }\n",
       "\n",
       "    .dataframe tbody tr th {\n",
       "        vertical-align: top;\n",
       "    }\n",
       "\n",
       "    .dataframe thead th {\n",
       "        text-align: right;\n",
       "    }\n",
       "</style>\n",
       "<table border=\"1\" class=\"dataframe\">\n",
       "  <thead>\n",
       "    <tr style=\"text-align: right;\">\n",
       "      <th></th>\n",
       "      <th>Customer</th>\n",
       "      <th>Churned_Flag</th>\n",
       "      <th>Avg Days Between Purchases</th>\n",
       "      <th>Product Variety</th>\n",
       "    </tr>\n",
       "  </thead>\n",
       "  <tbody>\n",
       "    <tr>\n",
       "      <th>0</th>\n",
       "      <td>Tyaira</td>\n",
       "      <td>0</td>\n",
       "      <td>3.842105</td>\n",
       "      <td>101</td>\n",
       "    </tr>\n",
       "    <tr>\n",
       "      <th>1</th>\n",
       "      <td>Randall Woods</td>\n",
       "      <td>0</td>\n",
       "      <td>6.112994</td>\n",
       "      <td>108</td>\n",
       "    </tr>\n",
       "    <tr>\n",
       "      <th>2</th>\n",
       "      <td>Ashley</td>\n",
       "      <td>0</td>\n",
       "      <td>8.680000</td>\n",
       "      <td>84</td>\n",
       "    </tr>\n",
       "    <tr>\n",
       "      <th>3</th>\n",
       "      <td>hair_by_jah</td>\n",
       "      <td>1</td>\n",
       "      <td>1.367647</td>\n",
       "      <td>47</td>\n",
       "    </tr>\n",
       "    <tr>\n",
       "      <th>4</th>\n",
       "      <td>Jacquetta Scott_3891</td>\n",
       "      <td>0</td>\n",
       "      <td>0.417087</td>\n",
       "      <td>431</td>\n",
       "    </tr>\n",
       "  </tbody>\n",
       "</table>\n",
       "</div>"
      ],
      "text/plain": [
       "               Customer  Churned_Flag  Avg Days Between Purchases  \\\n",
       "0                Tyaira             0                    3.842105   \n",
       "1         Randall Woods             0                    6.112994   \n",
       "2                Ashley             0                    8.680000   \n",
       "3           hair_by_jah             1                    1.367647   \n",
       "4  Jacquetta Scott_3891             0                    0.417087   \n",
       "\n",
       "   Product Variety  \n",
       "0              101  \n",
       "1              108  \n",
       "2               84  \n",
       "3               47  \n",
       "4              431  "
      ]
     },
     "execution_count": 32,
     "metadata": {},
     "output_type": "execute_result"
    }
   ],
   "source": [
    "# Calculate the time between purchases for each customer\n",
    "behavior_data['Previous Purchase Date'] = behavior_data.groupby('Customer')['Date'].shift(1)\n",
    "behavior_data['Days Between Purchases'] = (behavior_data['Date'] - behavior_data['Previous Purchase Date']).dt.days\n",
    "\n",
    "# Average time between purchases per customer\n",
    "avg_time_between_purchases = behavior_data.groupby('Customer')['Days Between Purchases'].mean()\n",
    "\n",
    "# Count of unique product types purchased by each customer\n",
    "product_variety = behavior_data.groupby('Customer')['Standardized Product'].nunique()\n",
    "\n",
    "# Merge these new features into the main dataset\n",
    "customer_features = behavior_data[['Customer', 'Churned_Flag']].drop_duplicates().set_index('Customer')\n",
    "customer_features['Avg Days Between Purchases'] = avg_time_between_purchases\n",
    "customer_features['Product Variety'] = product_variety\n",
    "\n",
    "customer_features.reset_index(inplace=True)\n",
    "\n",
    "# Display a sample of the new features\n",
    "customer_features.head()\n"
   ]
  },
  {
   "cell_type": "code",
   "execution_count": 34,
   "id": "c483ae7c",
   "metadata": {},
   "outputs": [
    {
     "data": {
      "text/plain": [
       "'              precision    recall  f1-score   support\\n\\n           0       0.65      0.13      0.22       251\\n           1       0.71      0.97      0.82       541\\n\\n    accuracy                           0.70       792\\n   macro avg       0.68      0.55      0.52       792\\nweighted avg       0.69      0.70      0.63       792\\n'"
      ]
     },
     "execution_count": 34,
     "metadata": {},
     "output_type": "execute_result"
    }
   ],
   "source": [
    "# Create a new binary feature indicating whether a discount was applied (VIP)\n",
    "behavior_data['Discount Applied'] = behavior_data['Product/Service'].apply(lambda x: 1 if 'VIP:' in str(x) else 0)\n",
    "\n",
    "# Update customer_features with the discount information\n",
    "discount_info = behavior_data.groupby('Customer')['Discount Applied'].max()\n",
    "customer_features['Discount Applied'] = customer_features['Customer'].map(discount_info)\n",
    "\n",
    "# Fill missing values in 'Avg Days Between Purchases' with the median of the available values\n",
    "median_days_between_purchases = customer_features['Avg Days Between Purchases'].median()\n",
    "customer_features['Avg Days Between Purchases'].fillna(median_days_between_purchases, inplace=True)\n",
    "\n",
    "# Update logistic regression model including new features\n",
    "X = customer_features[['Avg Days Between Purchases', 'Product Variety', 'Discount Applied']]\n",
    "y = customer_features['Churned_Flag']\n",
    "\n",
    "# Splitting data into training and testing sets again\n",
    "X_train, X_test, y_train, y_test = train_test_split(X, y, test_size=0.3, random_state=42)\n",
    "\n",
    "# Logistic regression model\n",
    "updated_model.fit(X_train, y_train)\n",
    "\n",
    "# Predictions and performance evaluation\n",
    "updated_predictions = updated_model.predict(X_test)\n",
    "updated_report = classification_report(y_test, updated_predictions)\n",
    "\n",
    "updated_report\n"
   ]
  },
  {
   "cell_type": "code",
   "execution_count": 36,
   "id": "dbdaebb8",
   "metadata": {},
   "outputs": [
    {
     "data": {
      "text/plain": [
       "'              precision    recall  f1-score   support\\n\\n           0       0.51      0.35      0.41       251\\n           1       0.74      0.85      0.79       541\\n\\n    accuracy                           0.69       792\\n   macro avg       0.62      0.60      0.60       792\\nweighted avg       0.67      0.69      0.67       792\\n'"
      ]
     },
     "execution_count": 36,
     "metadata": {},
     "output_type": "execute_result"
    }
   ],
   "source": [
    "from sklearn.ensemble import RandomForestClassifier\n",
    "\n",
    "# Configure the Random Forest model\n",
    "rf_model = RandomForestClassifier(n_estimators=100, random_state=42)\n",
    "\n",
    "# Train the model\n",
    "rf_model.fit(X_train, y_train)\n",
    "\n",
    "# Make predictions and evaluate the model\n",
    "rf_predictions = rf_model.predict(X_test)\n",
    "rf_report = classification_report(y_test, rf_predictions)\n",
    "\n",
    "rf_report\n"
   ]
  },
  {
   "cell_type": "code",
   "execution_count": 37,
   "id": "270c2d46",
   "metadata": {},
   "outputs": [
    {
     "data": {
      "image/png": "[encoded data removed]",
      "text/plain": [
       "<Figure size 720x432 with 1 Axes>"
      ]
     },
     "metadata": {
      "needs_background": "light"
     },
     "output_type": "display_data"
    }
   ],
   "source": [
    "import matplotlib.pyplot as plt\n",
    "\n",
    "# Extract feature importances from the model\n",
    "feature_importances = rf_model.feature_importances_\n",
    "features = X.columns\n",
    "\n",
    "# Create a DataFrame to visualize the feature importances\n",
    "feature_importance_df = pd.DataFrame({'Feature': features, 'Importance': feature_importances}).sort_values(by='Importance', ascending=False)\n",
    "\n",
    "# Plotting feature importances\n",
    "plt.figure(figsize=(10, 6))\n",
    "plt.barh(feature_importance_df['Feature'], feature_importance_df['Importance'], color='skyblue')\n",
    "plt.xlabel('Importance')\n",
    "plt.title('Feature Importance in Random Forest Model')\n",
    "plt.gca().invert_yaxis()\n",
    "plt.show()\n"
   ]
  },
  {
   "cell_type": "code",
   "execution_count": 38,
   "id": "4739fbee",
   "metadata": {},
   "outputs": [
    {
     "name": "stdout",
     "output_type": "stream",
     "text": [
      "Fitting 5 folds for each of 36 candidates, totalling 180 fits\n"
     ]
    },
    {
     "data": {
      "text/plain": [
       "({'max_depth': None, 'min_samples_split': 10, 'n_estimators': 50},\n",
       " 0.7162938548304402)"
      ]
     },
     "execution_count": 38,
     "metadata": {},
     "output_type": "execute_result"
    }
   ],
   "source": [
    "from sklearn.model_selection import GridSearchCV\n",
    "\n",
    "# Setting up parameter grid to tune the model\n",
    "param_grid = {\n",
    "    'n_estimators': [50, 100, 200],\n",
    "    'max_depth': [None, 10, 20, 30],\n",
    "    'min_samples_split': [2, 5, 10]\n",
    "}\n",
    "\n",
    "# Create a GridSearchCV object\n",
    "grid_search = GridSearchCV(estimator=RandomForestClassifier(random_state=42),\n",
    "                           param_grid=param_grid,\n",
    "                           cv=5,  # 5-fold cross-validation\n",
    "                           scoring='accuracy',  # can be adjusted to other metrics\n",
    "                           verbose=1)\n",
    "\n",
    "# Fit GridSearchCV\n",
    "grid_search.fit(X_train, y_train)\n",
    "\n",
    "# Best parameters and best score\n",
    "best_params = grid_search.best_params_\n",
    "best_score = grid_search.best_score_\n",
    "\n",
    "best_params, best_score\n"
   ]
  },
  {
   "cell_type": "code",
   "execution_count": 39,
   "id": "bf22733b",
   "metadata": {},
   "outputs": [
    {
     "data": {
      "text/plain": [
       "'              precision    recall  f1-score   support\\n\\n           0       0.64      0.34      0.45       251\\n           1       0.75      0.91      0.82       541\\n\\n    accuracy                           0.73       792\\n   macro avg       0.70      0.63      0.63       792\\nweighted avg       0.72      0.73      0.70       792\\n'"
      ]
     },
     "execution_count": 39,
     "metadata": {},
     "output_type": "execute_result"
    }
   ],
   "source": [
    "# Re-train Random Forest model with the optimal parameters\n",
    "tuned_rf_model = RandomForestClassifier(n_estimators=50, max_depth=None, min_samples_split=10, random_state=42)\n",
    "tuned_rf_model.fit(X_train, y_train)\n",
    "\n",
    "# Make predictions and evaluate the model with the tuned parameters\n",
    "tuned_rf_predictions = tuned_rf_model.predict(X_test)\n",
    "tuned_rf_report = classification_report(y_test, tuned_rf_predictions)\n",
    "\n",
    "tuned_rf_report\n"
   ]
  },
  {
   "cell_type": "code",
   "execution_count": 40,
   "id": "f96e767d",
   "metadata": {},
   "outputs": [
    {
     "data": {
      "text/plain": [
       "'              precision    recall  f1-score   support\\n\\n           0       0.67      0.27      0.39       251\\n           1       0.74      0.94      0.82       541\\n\\n    accuracy                           0.73       792\\n   macro avg       0.70      0.61      0.61       792\\nweighted avg       0.71      0.73      0.69       792\\n'"
      ]
     },
     "execution_count": 40,
     "metadata": {},
     "output_type": "execute_result"
    }
   ],
   "source": [
    "from sklearn.ensemble import GradientBoostingClassifier\n",
    "\n",
    "# Set up the Gradient Boosting Classifier\n",
    "gbm_model = GradientBoostingClassifier(n_estimators=100, learning_rate=0.1, max_depth=3, random_state=42)\n",
    "\n",
    "# Train the model\n",
    "gbm_model.fit(X_train, y_train)\n",
    "\n",
    "# Make predictions and evaluate the model\n",
    "gbm_predictions = gbm_model.predict(X_test)\n",
    "gbm_report = classification_report(y_test, gbm_predictions)\n",
    "\n",
    "gbm_report\n"
   ]
  },
  {
   "cell_type": "code",
   "execution_count": 42,
   "id": "dcd8ee4b",
   "metadata": {},
   "outputs": [
    {
     "data": {
      "text/plain": [
       "'              precision    recall  f1-score   support\\n\\n           0       0.76      0.20      0.32       251\\n           1       0.72      0.97      0.83       541\\n\\n    accuracy                           0.73       792\\n   macro avg       0.74      0.58      0.57       792\\nweighted avg       0.73      0.73      0.67       792\\n'"
      ]
     },
     "execution_count": 42,
     "metadata": {},
     "output_type": "execute_result"
    }
   ],
   "source": [
    "from sklearn.neural_network import MLPClassifier\n",
    "\n",
    "# Define the MLPClassifier\n",
    "mlp_model = MLPClassifier(hidden_layer_sizes=(128, 64, 32), activation='relu', solver='adam', max_iter=300, random_state=42)\n",
    "\n",
    "# Train the model\n",
    "mlp_model.fit(X_train, y_train)\n",
    "\n",
    "# Predictions and evaluate the model\n",
    "mlp_predictions = mlp_model.predict(X_test)\n",
    "mlp_report = classification_report(y_test, mlp_predictions)\n",
    "\n",
    "mlp_report\n"
   ]
  },
  {
   "cell_type": "code",
   "execution_count": null,
   "id": "064ce5d6",
   "metadata": {},
   "outputs": [],
   "source": []
  }
 ],
 "metadata": {
  "kernelspec": {
   "display_name": "Python 3 (ipykernel)",
   "language": "python",
   "name": "python3"
  },
  "language_info": {
   "codemirror_mode": {
    "name": "ipython",
    "version": 3
   },
   "file_extension": ".py",
   "mimetype": "text/x-python",
   "name": "python",
   "nbconvert_exporter": "python",
   "pygments_lexer": "ipython3",
   "version": "3.9.19"
  }
 },
 "nbformat": 4,
 "nbformat_minor": 5
}
